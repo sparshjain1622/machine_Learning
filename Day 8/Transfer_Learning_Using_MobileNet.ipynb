{
  "nbformat": 4,
  "nbformat_minor": 0,
  "metadata": {
    "colab": {
      "name": "Transfer Learning Using MobileNet.ipynb",
      "provenance": [],
      "include_colab_link": true
    },
    "kernelspec": {
      "name": "python3",
      "display_name": "Python 3"
    },
    "language_info": {
      "name": "python"
    }
  },
  
  "cells": [
    {
      "cell_type": "markdown",
      "metadata": {
        "id": "view-in-github",
        "colab_type": "text"
      },
      "source": [
        "<a href=\"https://colab.research.google.com/github/Rishabh8827/Machine-Learning---Summer-Training/blob/main/Day%208/Transfer_Learning_Using_MobileNet.ipynb\" target=\"_parent\"><img src=\"https://colab.research.google.com/assets/colab-badge.svg\" alt=\"Open In Colab\"/></a>"
      ]
    },
    {
      "cell_type": "code",
      "execution_count": null,
      "metadata": {
        "id": "f4wUfDc3-tr1"
      },
      "outputs": [],
      "source": [
        "from keras.layers import Input, Lambda, Dense, Flatten\n",
        "from keras.models import Model\n",
        "from keras.applications.mobilenet import MobileNet\n",
        "from keras.applications.mobilenet import preprocess_input\n",
        "from keras.preprocessing import image\n",
        "from keras.preprocessing.image import ImageDataGenerator\n",
        "from keras.models import Sequential\n",
        "import numpy as np\n",
        "from glob import glob\n",
        "import matplotlib.pyplot as plt"
      ]
    },
    {
      "cell_type": "code",
      "source": [
        "from google.colab import drive\n",
        "drive.mount('/content/gdrive')"
      ],
      "metadata": {
        "colab": {
          "base_uri": "https://localhost:8080/"
        },
        "id": "c2WE1niU_w05",
        "outputId": "6fb7a7ad-8036-4d5a-cb63-db4f2d2a90a8"
      },
      "execution_count": null,
      "outputs": [
        {
          "output_type": "stream",
          "name": "stdout",
          "text": [
            "Drive already mounted at /content/gdrive; to attempt to forcibly remount, call drive.mount(\"/content/gdrive\", force_remount=True).\n"
          ]
        }
      ]
    },
    {
      "cell_type": "code",
      "source": [
        "# re-size all the images to this\n",
        "IMAGE_SIZE = [224, 224]\n",
        "\n",
        "train_path = '/content/gdrive/MyDrive/Datasets/dataset/train'\n",
        "valid_path = '/content/gdrive/MyDrive/Datasets/dataset/val'"
      ],
      "metadata": {
        "id": "CBRBzaK-_45M"
      },
      "execution_count": null,
      "outputs": []
    },
    {
      "cell_type": "code",
      "source": [
        "# add preprocessing layer to the front of VGG\n",
        "mn = MobileNet(input_shape=IMAGE_SIZE + [3], weights='imagenet', include_top=False, classes=5)\n",
        "\n",
        "# don't train existing weights\n",
        "for layer in mn.layers:\n",
        "  layer.trainable = False\n",
        "  \n"
      ],
      "metadata": {
        "id": "sO_afzgkALo0"
      },
      "execution_count": null,
      "outputs": []
    },
    {
      "cell_type": "code",
      "source": [
        " # useful for getting number of classes\n",
        "folders = glob('/content/gdrive/MyDrive/Datasets/dataset/train/*')\n",
        "folders"
      ],
      "metadata": {
        "colab": {
          "base_uri": "https://localhost:8080/"
        },
        "id": "KWPdH8oeAPTP",
        "outputId": "87fccd18-9085-47f7-954e-4d93e3a12cc0"
      },
      "execution_count": null,
      "outputs": [
        {
          "output_type": "execute_result",
          "data": {
            "text/plain": [
              "['/content/gdrive/MyDrive/Datasets/dataset/train/ben_afflek',\n",
              " '/content/gdrive/MyDrive/Datasets/dataset/train/elton_john',\n",
              " '/content/gdrive/MyDrive/Datasets/dataset/train/jerry_seinfeld',\n",
              " '/content/gdrive/MyDrive/Datasets/dataset/train/madonna',\n",
              " '/content/gdrive/MyDrive/Datasets/dataset/train/mindy_kaling']"
            ]
          },
          "metadata": {},
          "execution_count": 63
        }
      ]
    },
    {
      "cell_type": "code",
      "source": [
        "# our layers - you can add more if you want\n",
        "x = Flatten()(mn.output)\n",
        "# x = Dense(1000, activation='relu')(x)\n",
        "prediction = Dense(len(folders), activation='softmax')(x)\n",
        "prediction = Dense(5, activation='softmax')(prediction)"
      ],
      "metadata": {
        "id": "r16b3wwYAazu"
      },
      "execution_count": null,
      "outputs": []
    },
    {
      "cell_type": "code",
      "source": [
        "# create a model object\n",
        "model = Model(inputs=mn.input, outputs=prediction)\n",
        "\n",
        "# view the structure of the model\n",
        "model.summary()\n"
      ],
      "metadata": {
        "colab": {
          "base_uri": "https://localhost:8080/"
        },
        "id": "5c_jQdn4AeC6",
        "outputId": "381ab7e3-ef2f-4f08-9d06-086eb55a3bcc"
      },
      "execution_count": null,
      "outputs": [
        {
          "output_type": "stream",
          "name": "stdout",
          "text": [
            "Model: \"model_7\"\n",
            "_________________________________________________________________\n",
            " Layer (type)                Output Shape              Param #   \n",
            "=================================================================\n",
            " input_6 (InputLayer)        [(None, 224, 224, 3)]     0         \n",
            "                                                                 \n",
            " conv1 (Conv2D)              (None, 112, 112, 32)      864       \n",
            "                                                                 \n",
            " conv1_bn (BatchNormalizatio  (None, 112, 112, 32)     128       \n",
            " n)                                                              \n",
            "                                                                 \n",
            " conv1_relu (ReLU)           (None, 112, 112, 32)      0         \n",
            "                                                                 \n",
            " conv_dw_1 (DepthwiseConv2D)  (None, 112, 112, 32)     288       \n",
            "                                                                 \n",
            " conv_dw_1_bn (BatchNormaliz  (None, 112, 112, 32)     128       \n",
            " ation)                                                          \n",
            "                                                                 \n",
            " conv_dw_1_relu (ReLU)       (None, 112, 112, 32)      0         \n",
            "                                                                 \n",
            " conv_pw_1 (Conv2D)          (None, 112, 112, 64)      2048      \n",
            "                                                                 \n",
            " conv_pw_1_bn (BatchNormaliz  (None, 112, 112, 64)     256       \n",
            " ation)                                                          \n",
            "                                                                 \n",
            " conv_pw_1_relu (ReLU)       (None, 112, 112, 64)      0         \n",
            "                                                                 \n",
            " conv_pad_2 (ZeroPadding2D)  (None, 113, 113, 64)      0         \n",
            "                                                                 \n",
            " conv_dw_2 (DepthwiseConv2D)  (None, 56, 56, 64)       576       \n",
            "                                                                 \n",
            " conv_dw_2_bn (BatchNormaliz  (None, 56, 56, 64)       256       \n",
            " ation)                                                          \n",
            "                                                                 \n",
            " conv_dw_2_relu (ReLU)       (None, 56, 56, 64)        0         \n",
            "                                                                 \n",
            " conv_pw_2 (Conv2D)          (None, 56, 56, 128)       8192      \n",
            "                                                                 \n",
            " conv_pw_2_bn (BatchNormaliz  (None, 56, 56, 128)      512       \n",
            " ation)                                                          \n",
            "                                                                 \n",
            " conv_pw_2_relu (ReLU)       (None, 56, 56, 128)       0         \n",
            "                                                                 \n",
            " conv_dw_3 (DepthwiseConv2D)  (None, 56, 56, 128)      1152      \n",
            "                                                                 \n",
            " conv_dw_3_bn (BatchNormaliz  (None, 56, 56, 128)      512       \n",
            " ation)                                                          \n",
            "                                                                 \n",
            " conv_dw_3_relu (ReLU)       (None, 56, 56, 128)       0         \n",
            "                                                                 \n",
            " conv_pw_3 (Conv2D)          (None, 56, 56, 128)       16384     \n",
            "                                                                 \n",
            " conv_pw_3_bn (BatchNormaliz  (None, 56, 56, 128)      512       \n",
            " ation)                                                          \n",
            "                                                                 \n",
            " conv_pw_3_relu (ReLU)       (None, 56, 56, 128)       0         \n",
            "                                                                 \n",
            " conv_pad_4 (ZeroPadding2D)  (None, 57, 57, 128)       0         \n",
            "                                                                 \n",
            " conv_dw_4 (DepthwiseConv2D)  (None, 28, 28, 128)      1152      \n",
            "                                                                 \n",
            " conv_dw_4_bn (BatchNormaliz  (None, 28, 28, 128)      512       \n",
            " ation)                                                          \n",
            "                                                                 \n",
            " conv_dw_4_relu (ReLU)       (None, 28, 28, 128)       0         \n",
            "                                                                 \n",
            " conv_pw_4 (Conv2D)          (None, 28, 28, 256)       32768     \n",
            "                                                                 \n",
            " conv_pw_4_bn (BatchNormaliz  (None, 28, 28, 256)      1024      \n",
            " ation)                                                          \n",
            "                                                                 \n",
            " conv_pw_4_relu (ReLU)       (None, 28, 28, 256)       0         \n",
            "                                                                 \n",
            " conv_dw_5 (DepthwiseConv2D)  (None, 28, 28, 256)      2304      \n",
            "                                                                 \n",
            " conv_dw_5_bn (BatchNormaliz  (None, 28, 28, 256)      1024      \n",
            " ation)                                                          \n",
            "                                                                 \n",
            " conv_dw_5_relu (ReLU)       (None, 28, 28, 256)       0         \n",
            "                                                                 \n",
            " conv_pw_5 (Conv2D)          (None, 28, 28, 256)       65536     \n",
            "                                                                 \n",
            " conv_pw_5_bn (BatchNormaliz  (None, 28, 28, 256)      1024      \n",
            " ation)                                                          \n",
            "                                                                 \n",
            " conv_pw_5_relu (ReLU)       (None, 28, 28, 256)       0         \n",
            "                                                                 \n",
            " conv_pad_6 (ZeroPadding2D)  (None, 29, 29, 256)       0         \n",
            "                                                                 \n",
            " conv_dw_6 (DepthwiseConv2D)  (None, 14, 14, 256)      2304      \n",
            "                                                                 \n",
            " conv_dw_6_bn (BatchNormaliz  (None, 14, 14, 256)      1024      \n",
            " ation)                                                          \n",
            "                                                                 \n",
            " conv_dw_6_relu (ReLU)       (None, 14, 14, 256)       0         \n",
            "                                                                 \n",
            " conv_pw_6 (Conv2D)          (None, 14, 14, 512)       131072    \n",
            "                                                                 \n",
            " conv_pw_6_bn (BatchNormaliz  (None, 14, 14, 512)      2048      \n",
            " ation)                                                          \n",
            "                                                                 \n",
            " conv_pw_6_relu (ReLU)       (None, 14, 14, 512)       0         \n",
            "                                                                 \n",
            " conv_dw_7 (DepthwiseConv2D)  (None, 14, 14, 512)      4608      \n",
            "                                                                 \n",
            " conv_dw_7_bn (BatchNormaliz  (None, 14, 14, 512)      2048      \n",
            " ation)                                                          \n",
            "                                                                 \n",
            " conv_dw_7_relu (ReLU)       (None, 14, 14, 512)       0         \n",
            "                                                                 \n",
            " conv_pw_7 (Conv2D)          (None, 14, 14, 512)       262144    \n",
            "                                                                 \n",
            " conv_pw_7_bn (BatchNormaliz  (None, 14, 14, 512)      2048      \n",
            " ation)                                                          \n",
            "                                                                 \n",
            " conv_pw_7_relu (ReLU)       (None, 14, 14, 512)       0         \n",
            "                                                                 \n",
            " conv_dw_8 (DepthwiseConv2D)  (None, 14, 14, 512)      4608      \n",
            "                                                                 \n",
            " conv_dw_8_bn (BatchNormaliz  (None, 14, 14, 512)      2048      \n",
            " ation)                                                          \n",
            "                                                                 \n",
            " conv_dw_8_relu (ReLU)       (None, 14, 14, 512)       0         \n",
            "                                                                 \n",
            " conv_pw_8 (Conv2D)          (None, 14, 14, 512)       262144    \n",
            "                                                                 \n",
            " conv_pw_8_bn (BatchNormaliz  (None, 14, 14, 512)      2048      \n",
            " ation)                                                          \n",
            "                                                                 \n",
            " conv_pw_8_relu (ReLU)       (None, 14, 14, 512)       0         \n",
            "                                                                 \n",
            " conv_dw_9 (DepthwiseConv2D)  (None, 14, 14, 512)      4608      \n",
            "                                                                 \n",
            " conv_dw_9_bn (BatchNormaliz  (None, 14, 14, 512)      2048      \n",
            " ation)                                                          \n",
            "                                                                 \n",
            " conv_dw_9_relu (ReLU)       (None, 14, 14, 512)       0         \n",
            "                                                                 \n",
            " conv_pw_9 (Conv2D)          (None, 14, 14, 512)       262144    \n",
            "                                                                 \n",
            " conv_pw_9_bn (BatchNormaliz  (None, 14, 14, 512)      2048      \n",
            " ation)                                                          \n",
            "                                                                 \n",
            " conv_pw_9_relu (ReLU)       (None, 14, 14, 512)       0         \n",
            "                                                                 \n",
            " conv_dw_10 (DepthwiseConv2D  (None, 14, 14, 512)      4608      \n",
            " )                                                               \n",
            "                                                                 \n",
            " conv_dw_10_bn (BatchNormali  (None, 14, 14, 512)      2048      \n",
            " zation)                                                         \n",
            "                                                                 \n",
            " conv_dw_10_relu (ReLU)      (None, 14, 14, 512)       0         \n",
            "                                                                 \n",
            " conv_pw_10 (Conv2D)         (None, 14, 14, 512)       262144    \n",
            "                                                                 \n",
            " conv_pw_10_bn (BatchNormali  (None, 14, 14, 512)      2048      \n",
            " zation)                                                         \n",
            "                                                                 \n",
            " conv_pw_10_relu (ReLU)      (None, 14, 14, 512)       0         \n",
            "                                                                 \n",
            " conv_dw_11 (DepthwiseConv2D  (None, 14, 14, 512)      4608      \n",
            " )                                                               \n",
            "                                                                 \n",
            " conv_dw_11_bn (BatchNormali  (None, 14, 14, 512)      2048      \n",
            " zation)                                                         \n",
            "                                                                 \n",
            " conv_dw_11_relu (ReLU)      (None, 14, 14, 512)       0         \n",
            "                                                                 \n",
            " conv_pw_11 (Conv2D)         (None, 14, 14, 512)       262144    \n",
            "                                                                 \n",
            " conv_pw_11_bn (BatchNormali  (None, 14, 14, 512)      2048      \n",
            " zation)                                                         \n",
            "                                                                 \n",
            " conv_pw_11_relu (ReLU)      (None, 14, 14, 512)       0         \n",
            "                                                                 \n",
            " conv_pad_12 (ZeroPadding2D)  (None, 15, 15, 512)      0         \n",
            "                                                                 \n",
            " conv_dw_12 (DepthwiseConv2D  (None, 7, 7, 512)        4608      \n",
            " )                                                               \n",
            "                                                                 \n",
            " conv_dw_12_bn (BatchNormali  (None, 7, 7, 512)        2048      \n",
            " zation)                                                         \n",
            "                                                                 \n",
            " conv_dw_12_relu (ReLU)      (None, 7, 7, 512)         0         \n",
            "                                                                 \n",
            " conv_pw_12 (Conv2D)         (None, 7, 7, 1024)        524288    \n",
            "                                                                 \n",
            " conv_pw_12_bn (BatchNormali  (None, 7, 7, 1024)       4096      \n",
            " zation)                                                         \n",
            "                                                                 \n",
            " conv_pw_12_relu (ReLU)      (None, 7, 7, 1024)        0         \n",
            "                                                                 \n",
            " conv_dw_13 (DepthwiseConv2D  (None, 7, 7, 1024)       9216      \n",
            " )                                                               \n",
            "                                                                 \n",
            " conv_dw_13_bn (BatchNormali  (None, 7, 7, 1024)       4096      \n",
            " zation)                                                         \n",
            "                                                                 \n",
            " conv_dw_13_relu (ReLU)      (None, 7, 7, 1024)        0         \n",
            "                                                                 \n",
            " conv_pw_13 (Conv2D)         (None, 7, 7, 1024)        1048576   \n",
            "                                                                 \n",
            " conv_pw_13_bn (BatchNormali  (None, 7, 7, 1024)       4096      \n",
            " zation)                                                         \n",
            "                                                                 \n",
            " conv_pw_13_relu (ReLU)      (None, 7, 7, 1024)        0         \n",
            "                                                                 \n",
            " flatten_6 (Flatten)         (None, 50176)             0         \n",
            "                                                                 \n",
            " dense_8 (Dense)             (None, 5)                 250885    \n",
            "                                                                 \n",
            " dense_9 (Dense)             (None, 5)                 30        \n",
            "                                                                 \n",
            "=================================================================\n",
            "Total params: 3,479,779\n",
            "Trainable params: 250,915\n",
            "Non-trainable params: 3,228,864\n",
            "_________________________________________________________________\n"
          ]
        }
      ]
    },
    {
      "cell_type": "code",
      "source": [
        "# tell the model what cost and optimization method to use\n",
        "model.compile(\n",
        "  loss='categorical_crossentropy',\n",
        "  optimizer='rmsprop',\n",
        "  metrics=['accuracy']\n",
        ")"
      ],
      "metadata": {
        "id": "NhBOsZPfAgY5"
      },
      "execution_count": null,
      "outputs": []
    },
    {
      "cell_type": "code",
      "source": [
        "from keras.preprocessing.image import ImageDataGenerator\n",
        "\n",
        "train_datagen = ImageDataGenerator(rescale = 1./255,\n",
        "                                   shear_range = 0.2,\n",
        "                                   zoom_range = 0.2,\n",
        "                                   horizontal_flip = True)\n",
        "\n",
        "test_datagen = ImageDataGenerator(rescale = 1./255)\n",
        "\n",
        "training_set = train_datagen.flow_from_directory('/content/gdrive/MyDrive/Datasets/dataset/train',\n",
        "                                                 target_size = (224, 224),\n",
        "                                                 batch_size = 32,\n",
        "                                                 class_mode = 'categorical')\n",
        "\n",
        "test_set = test_datagen.flow_from_directory('/content/gdrive/MyDrive/Datasets/dataset/val',\n",
        "                                            target_size = (224, 224),\n",
        "                                            batch_size = 32,\n",
        "                                            class_mode = 'categorical')\n",
        "\n",
        "'''r=model.fit_generator(training_set,\n",
        "                         samples_per_epoch = 8000,\n",
        "                         nb_epoch = 5,\n",
        "                         validation_data = test_set,\n",
        "                         nb_val_samples = 2000)'''"
      ],
      "metadata": {
        "colab": {
          "base_uri": "https://localhost:8080/",
          "height": 87
        },
        "id": "0Ol_PLNzAlQx",
        "outputId": "c068805e-f02f-4888-c2a0-c8fd11cb07be"
      },
      "execution_count": null,
      "outputs": [
        {
          "output_type": "stream",
          "name": "stdout",
          "text": [
            "Found 93 images belonging to 5 classes.\n",
            "Found 25 images belonging to 5 classes.\n"
          ]
        },
        {
          "output_type": "execute_result",
          "data": {
            "text/plain": [
              "'r=model.fit_generator(training_set,\\n                         samples_per_epoch = 8000,\\n                         nb_epoch = 5,\\n                         validation_data = test_set,\\n                         nb_val_samples = 2000)'"
            ],
            "application/vnd.google.colaboratory.intrinsic+json": {
              "type": "string"
            }
          },
          "metadata": {},
          "execution_count": 95
        }
      ]
    },
    {
      "cell_type": "code",
      "source": [
        "# fit the model\n",
        "r = model.fit(\n",
        "  training_set,\n",
        "  validation_data=test_set,\n",
        "  epochs=50,\n",
        "  steps_per_epoch=len(training_set),\n",
        "  validation_steps=len(test_set)\n",
        ")"
      ],
      "metadata": {
        "colab": {
          "base_uri": "https://localhost:8080/"
        },
        "id": "QfgsEx0hA1TV",
        "outputId": "b95d1d4d-0adc-4145-904b-31f7c07b6234"
      },
      "execution_count": null,
      "outputs": [
        {
          "output_type": "stream",
          "name": "stdout",
          "text": [
            "Epoch 1/50\n",
            "3/3 [==============================] - 5s 2s/step - loss: 1.6164 - accuracy: 0.2151 - val_loss: 1.6195 - val_accuracy: 0.2000\n",
            "Epoch 2/50\n",
            "3/3 [==============================] - 5s 2s/step - loss: 1.5366 - accuracy: 0.3226 - val_loss: 1.5901 - val_accuracy: 0.2800\n",
            "Epoch 3/50\n",
            "3/3 [==============================] - 5s 2s/step - loss: 1.4839 - accuracy: 0.3656 - val_loss: 1.4807 - val_accuracy: 0.3600\n",
            "Epoch 4/50\n",
            "3/3 [==============================] - 5s 2s/step - loss: 1.4907 - accuracy: 0.4086 - val_loss: 1.5125 - val_accuracy: 0.3600\n",
            "Epoch 5/50\n",
            "3/3 [==============================] - 5s 2s/step - loss: 1.4749 - accuracy: 0.4194 - val_loss: 1.6122 - val_accuracy: 0.2800\n",
            "Epoch 6/50\n",
            "3/3 [==============================] - 7s 2s/step - loss: 1.4829 - accuracy: 0.3871 - val_loss: 1.5567 - val_accuracy: 0.3200\n",
            "Epoch 7/50\n",
            "3/3 [==============================] - 5s 2s/step - loss: 1.4690 - accuracy: 0.4086 - val_loss: 1.5615 - val_accuracy: 0.3200\n",
            "Epoch 8/50\n",
            "3/3 [==============================] - 5s 2s/step - loss: 1.4415 - accuracy: 0.4516 - val_loss: 1.4580 - val_accuracy: 0.4800\n",
            "Epoch 9/50\n",
            "3/3 [==============================] - 6s 2s/step - loss: 1.4199 - accuracy: 0.4731 - val_loss: 1.4336 - val_accuracy: 0.4800\n",
            "Epoch 10/50\n",
            "3/3 [==============================] - 5s 2s/step - loss: 1.4150 - accuracy: 0.4946 - val_loss: 1.5486 - val_accuracy: 0.3600\n",
            "Epoch 11/50\n",
            "3/3 [==============================] - 6s 2s/step - loss: 1.4188 - accuracy: 0.4839 - val_loss: 1.4737 - val_accuracy: 0.4000\n",
            "Epoch 12/50\n",
            "3/3 [==============================] - 5s 2s/step - loss: 1.3718 - accuracy: 0.5699 - val_loss: 1.4891 - val_accuracy: 0.4400\n",
            "Epoch 13/50\n",
            "3/3 [==============================] - 6s 2s/step - loss: 1.3783 - accuracy: 0.5591 - val_loss: 1.4437 - val_accuracy: 0.4400\n",
            "Epoch 14/50\n",
            "3/3 [==============================] - 6s 2s/step - loss: 1.3478 - accuracy: 0.6022 - val_loss: 1.4813 - val_accuracy: 0.4000\n",
            "Epoch 15/50\n",
            "3/3 [==============================] - 6s 2s/step - loss: 1.3433 - accuracy: 0.5914 - val_loss: 1.5745 - val_accuracy: 0.4000\n",
            "Epoch 16/50\n",
            "3/3 [==============================] - 5s 2s/step - loss: 1.3200 - accuracy: 0.6452 - val_loss: 1.4769 - val_accuracy: 0.4800\n",
            "Epoch 17/50\n",
            "3/3 [==============================] - 6s 2s/step - loss: 1.3740 - accuracy: 0.5484 - val_loss: 1.4188 - val_accuracy: 0.5200\n",
            "Epoch 18/50\n",
            "3/3 [==============================] - 5s 2s/step - loss: 1.3039 - accuracy: 0.6667 - val_loss: 1.5617 - val_accuracy: 0.3200\n",
            "Epoch 19/50\n",
            "3/3 [==============================] - 5s 2s/step - loss: 1.2964 - accuracy: 0.6667 - val_loss: 1.4139 - val_accuracy: 0.5200\n",
            "Epoch 20/50\n",
            "3/3 [==============================] - 5s 2s/step - loss: 1.2944 - accuracy: 0.6667 - val_loss: 1.4210 - val_accuracy: 0.4800\n",
            "Epoch 21/50\n",
            "3/3 [==============================] - 5s 2s/step - loss: 1.2878 - accuracy: 0.6559 - val_loss: 1.4187 - val_accuracy: 0.4800\n",
            "Epoch 22/50\n",
            "3/3 [==============================] - 5s 2s/step - loss: 1.2915 - accuracy: 0.6667 - val_loss: 1.4512 - val_accuracy: 0.4400\n",
            "Epoch 23/50\n",
            "3/3 [==============================] - 6s 2s/step - loss: 1.2871 - accuracy: 0.6452 - val_loss: 1.4535 - val_accuracy: 0.4400\n",
            "Epoch 24/50\n",
            "3/3 [==============================] - 6s 2s/step - loss: 1.2839 - accuracy: 0.6344 - val_loss: 1.4328 - val_accuracy: 0.5200\n",
            "Epoch 25/50\n",
            "3/3 [==============================] - 6s 2s/step - loss: 1.3008 - accuracy: 0.6559 - val_loss: 1.4452 - val_accuracy: 0.4800\n",
            "Epoch 26/50\n",
            "3/3 [==============================] - 5s 2s/step - loss: 1.2587 - accuracy: 0.6989 - val_loss: 1.4567 - val_accuracy: 0.4000\n",
            "Epoch 27/50\n",
            "3/3 [==============================] - 7s 2s/step - loss: 1.2615 - accuracy: 0.6667 - val_loss: 1.3892 - val_accuracy: 0.5200\n",
            "Epoch 28/50\n",
            "3/3 [==============================] - 6s 2s/step - loss: 1.2313 - accuracy: 0.7097 - val_loss: 1.4023 - val_accuracy: 0.5200\n",
            "Epoch 29/50\n",
            "3/3 [==============================] - 5s 2s/step - loss: 1.2335 - accuracy: 0.7204 - val_loss: 1.3496 - val_accuracy: 0.6800\n",
            "Epoch 30/50\n",
            "3/3 [==============================] - 5s 2s/step - loss: 1.2119 - accuracy: 0.8065 - val_loss: 1.3267 - val_accuracy: 0.6800\n",
            "Epoch 31/50\n",
            "3/3 [==============================] - 5s 2s/step - loss: 1.2185 - accuracy: 0.7527 - val_loss: 1.3277 - val_accuracy: 0.7600\n",
            "Epoch 32/50\n",
            "3/3 [==============================] - 5s 2s/step - loss: 1.1886 - accuracy: 0.8387 - val_loss: 1.3136 - val_accuracy: 0.7600\n",
            "Epoch 33/50\n",
            "3/3 [==============================] - 5s 2s/step - loss: 1.1880 - accuracy: 0.8387 - val_loss: 1.3197 - val_accuracy: 0.7200\n",
            "Epoch 34/50\n",
            "3/3 [==============================] - 6s 2s/step - loss: 1.1748 - accuracy: 0.8280 - val_loss: 1.3236 - val_accuracy: 0.7200\n",
            "Epoch 35/50\n",
            "3/3 [==============================] - 6s 2s/step - loss: 1.1760 - accuracy: 0.8172 - val_loss: 1.3210 - val_accuracy: 0.7200\n",
            "Epoch 36/50\n",
            "3/3 [==============================] - 5s 2s/step - loss: 1.1604 - accuracy: 0.8495 - val_loss: 1.3142 - val_accuracy: 0.7200\n",
            "Epoch 37/50\n",
            "3/3 [==============================] - 6s 2s/step - loss: 1.1611 - accuracy: 0.8495 - val_loss: 1.3740 - val_accuracy: 0.6000\n",
            "Epoch 38/50\n",
            "3/3 [==============================] - 6s 2s/step - loss: 1.1499 - accuracy: 0.8495 - val_loss: 1.3721 - val_accuracy: 0.6000\n",
            "Epoch 39/50\n",
            "3/3 [==============================] - 6s 2s/step - loss: 1.1612 - accuracy: 0.8280 - val_loss: 1.4423 - val_accuracy: 0.5200\n",
            "Epoch 40/50\n",
            "3/3 [==============================] - 6s 2s/step - loss: 1.1981 - accuracy: 0.8065 - val_loss: 1.3522 - val_accuracy: 0.6800\n",
            "Epoch 41/50\n",
            "3/3 [==============================] - 6s 2s/step - loss: 1.1501 - accuracy: 0.8495 - val_loss: 1.2406 - val_accuracy: 0.7600\n",
            "Epoch 42/50\n",
            "3/3 [==============================] - 6s 2s/step - loss: 1.1366 - accuracy: 0.8495 - val_loss: 1.2377 - val_accuracy: 0.7600\n",
            "Epoch 43/50\n",
            "3/3 [==============================] - 6s 2s/step - loss: 1.1397 - accuracy: 0.8387 - val_loss: 1.2446 - val_accuracy: 0.7600\n",
            "Epoch 44/50\n",
            "3/3 [==============================] - 6s 2s/step - loss: 1.1299 - accuracy: 0.8495 - val_loss: 1.2419 - val_accuracy: 0.7600\n",
            "Epoch 45/50\n",
            "3/3 [==============================] - 6s 2s/step - loss: 1.1266 - accuracy: 0.8495 - val_loss: 1.2393 - val_accuracy: 0.7600\n",
            "Epoch 46/50\n",
            "3/3 [==============================] - 6s 2s/step - loss: 1.1233 - accuracy: 0.8495 - val_loss: 1.2376 - val_accuracy: 0.7600\n",
            "Epoch 47/50\n",
            "3/3 [==============================] - 6s 2s/step - loss: 1.1200 - accuracy: 0.8495 - val_loss: 1.2412 - val_accuracy: 0.7200\n",
            "Epoch 48/50\n",
            "3/3 [==============================] - 6s 2s/step - loss: 1.1167 - accuracy: 0.8495 - val_loss: 1.2387 - val_accuracy: 0.7200\n",
            "Epoch 49/50\n",
            "3/3 [==============================] - 6s 2s/step - loss: 1.1135 - accuracy: 0.8495 - val_loss: 1.2364 - val_accuracy: 0.7200\n",
            "Epoch 50/50\n",
            "3/3 [==============================] - 6s 2s/step - loss: 1.1102 - accuracy: 0.8495 - val_loss: 1.2339 - val_accuracy: 0.7200\n"
          ]
        }
      ]
    },
    {
      "cell_type": "code",
      "source": [
        "# loss\n",
        "plt.plot(r.history['loss'], label='train loss')\n",
        "plt.plot(r.history['val_loss'], label='val loss')\n",
        "plt.legend()\n",
        "plt.show()\n",
        "plt.savefig('LossVal_loss')"
      ],
      "metadata": {
        "id": "NB5kj9lVBLpT",
        "colab": {
          "base_uri": "https://localhost:8080/",
          "height": 282
        },
        "outputId": "f9b9de80-6fde-4213-bc7b-279d9ee40d32"
      },
      "execution_count": null,
      "outputs": [
        {
          "output_type": "display_data",
          "data": {
            "text/plain": [
              "<Figure size 432x288 with 1 Axes>"
            ],
            "image/png": "[encoded data removed]"
          },
          "metadata": {
            "needs_background": "light"
          }
        },
        {
          "output_type": "display_data",
          "data": {
            "text/plain": [
              "<Figure size 432x288 with 0 Axes>"
            ]
          },
          "metadata": {}
        }
      ]
    },
    {
      "cell_type": "code",
      "source": [
        "# accuracies\n",
        "plt.plot(r.history['accuracy'], label='train acc')\n",
        "plt.plot(r.history['val_accuracy'], label='val acc')\n",
        "plt.legend()\n",
        "plt.show()\n",
        "plt.savefig('AccVal_acc')\n",
        "\n"
      ],
      "metadata": {
        "id": "8OpcZbgRBM4n",
        "colab": {
          "base_uri": "https://localhost:8080/",
          "height": 282
        },
        "outputId": "e68b50a1-e2f5-4c4c-f913-b590bd15946e"
      },
      "execution_count": null,
      "outputs": [
        {
          "output_type": "display_data",
          "data": {
            "text/plain": [
              "<Figure size 432x288 with 1 Axes>"
            ],
            "image/png": "[encoded data removed]"
          },
          "metadata": {
            "needs_background": "light"
          }
        },
        {
          "output_type": "display_data",
          "data": {
            "text/plain": [
              "<Figure size 432x288 with 0 Axes>"
            ]
          },
          "metadata": {}
        }
      ]
    },
    {
      "cell_type": "code",
      "source": [
        "import tensorflow as tf\n",
        "\n",
        "from keras.models import load_model\n",
        "\n",
        "model.save('facefeatures_new_model.h5')"
      ],
      "metadata": {
        "id": "Aa5AuCUXJXpO"
      },
      "execution_count": null,
      "outputs": []
    }
  ]
}
